{
 "cells": [
  {
   "cell_type": "code",
   "execution_count": 1,
   "metadata": {
    "collapsed": false
   },
   "outputs": [
    {
     "data": {
      "text/plain": [
       "'Tutorial for RL introduction, following Chapter 3 of Sutton'"
      ]
     },
     "execution_count": 1,
     "metadata": {},
     "output_type": "execute_result"
    }
   ],
   "source": [
    "\"\"\"Tutorial for RL introduction, following Chapter 3 of Sutton\"\"\""
   ]
  },
  {
   "cell_type": "markdown",
   "metadata": {},
   "source": [
    "# Chapter 3. Reinforcement Learning Problem\n",
    "In this tutorial we go through the example of computing action-value\n",
    "function and state-value function following the example given in Chapter 3\n",
    "of `Reinforcement Learning: An Introduction`."
   ]
  },
  {
   "cell_type": "markdown",
   "metadata": {},
   "source": [
    "State value function and action value function for policy $\\pi$ are defined\n",
    "as follow\n",
    "\n",
    "\\begin{align*}\n",
    "v_{\\pi} (s)\n",
    "  &= \\mathbb{E}_{\\pi} \\lbrack G_t | S_t = s \\rbrack \\\\\n",
    "q_{\\pi}(s, a)\n",
    "  &= \\mathbb{E}_{\\pi} \\lbrack G_t | S_t = s, A_t = a \\rbrack \\\\\n",
    "\\text{where } & \\text{$G_t$ , the sum of the discounted rewards, is} \\\\\n",
    "G_t\n",
    "  &= R_{t+1} + R_{t+2} + R_{t+3} + \\dots + R_{T}\n",
    "\\end{align*}\n",
    "\n",
    "In case of Markov Decision Process, the following can be derived.\n",
    "\n",
    "\\begin{align*}\n",
    "v_{\\pi} (s)\n",
    "  &= \\mathbb{E}_{\\pi} \\lbrack G_t | S_t = s \\rbrack \\\\\n",
    "  &= \\mathbb{E}_{\\pi} \\lbrack \\sum_{k=0}^{\\infty}\n",
    "     \\gamma ^ {k} R_{t+k+1} | S_t = s \\rbrack \\\\\n",
    "q_{\\pi}(s, a)\n",
    "  &= \\mathbb{E}_{\\pi} \\lbrack G_t | S_t = s, A_t = a \\rbrack \\\\\n",
    "  &= \\mathbb{E}_{\\pi} \\lbrack \\sum_{k=0}^{\\infty}\n",
    "     \\gamma ^ {k} R_{t+k+1} | S_t = s, A_t = a \\rbrack\n",
    "\\end{align*}\n",
    "\n",
    "These interweived functions statisfy recursive relationships as follow\n",
    "\n",
    "\\begin{align*}\n",
    "v_{\\pi} (s)\n",
    "  &= \\mathbb{E}_{\\pi} \\lbrack G_t | S_t = s \\rbrack \\\\\n",
    "  &= \\mathbb{E}_{\\pi} \\lbrack\n",
    "     \\sum_{k=0}^{\\infty} \\gamma ^ k R_{t+k+1} | S_t = s \\rbrack \\\\\n",
    "  &= \\mathbb{E}_{\\pi} \\lbrack\n",
    "     R_{t+1} + \\gamma\n",
    "     \\sum_{k=0}^{\\infty} \\gamma ^ k R_{t+k+2} | S_t = s \\rbrack \\\\\n",
    "  &= \\sum_a \\pi(a|s) \\sum_{s'} p(s' |s, a) \\lbrack\n",
    "     r(s, a, s') + \\gamma \\mathbb{E}_{\\pi} \\lbrack\n",
    "         \\sum_{k=0}^{\\infty} \\gamma^{k} R_{t+k+2} | S_{t+1} = s'\n",
    "       \\rbrack\n",
    "     \\rbrack \\\\\n",
    "  &= \\sum_a \\pi(a|s) \\sum_{s'} p(s' |s, a) \\lbrack\n",
    "     r(s, a, s') + \\gamma v_{\\pi}(s')\n",
    "     \\rbrack\n",
    "\\end{align*}"
   ]
  },
  {
   "cell_type": "markdown",
   "metadata": {},
   "source": [
    "Let us compute and visualize the state-value function through GridWorld\n",
    "example.\n",
    "For the detail of the definition, please refer to the Example 3.8\n",
    "from the book.\n",
    "- Agent moves in 5 x 5 grid cell\n",
    "- Agent takes action to move either north, east, west, or south.\n",
    "- Actions that would move the agent out of grid results in reward of -1\n",
    "and agent stays where it was before taking the action.\n",
    "- On success full action, agent moves to new position and receives\n",
    "0 reward.\n",
    "- In special state $A$ (0, 1), all action cause the agent to move to $A'$\n",
    "(4, 1) and reward of 10\n",
    "- Similarly in $B$ (0, 3), all action cause the agent to move to $B'$\n",
    "(2, 3) and reward of 5\n",
    "\n",
    "First, we define `GridWorld` environment as follow"
   ]
  },
  {
   "cell_type": "code",
   "execution_count": 2,
   "metadata": {
    "collapsed": false
   },
   "outputs": [],
   "source": [
    "from __future__ import print_function\n",
    "from __future__ import absolute_import\n",
    "\n",
    "import numpy as np\n",
    "import matplotlib.pyplot as plt\n",
    "\n",
    "import luchador.env\n",
    "import luchador.agent\n",
    "from luchador.episode_runner import EpisodeRunner\n",
    "\n",
    "\n",
    "def _transit(position, action):\n",
    "    \"\"\"Transition rule of GridWorld\n",
    "\n",
    "    Parameters\n",
    "    ----------\n",
    "    position : NumPy NDArray\n",
    "        Coordinate of agent\n",
    "    action : int\n",
    "        0, 1, 2, or 3, meaning north, east, west or south respectively\n",
    "\n",
    "    Returns\n",
    "    -------\n",
    "    NumPy NDArray\n",
    "        New coordinate\n",
    "    int\n",
    "        Reward\n",
    "    \"\"\"\n",
    "    reward = 0\n",
    "    new_position = position.copy()\n",
    "\n",
    "    if np.all(position == [0, 1]):\n",
    "        reward = 10\n",
    "        new_position[:] = [4, 1]\n",
    "        return new_position, reward\n",
    "    if np.all(position == [0, 3]):\n",
    "        reward = 5\n",
    "        new_position[:] = [2, 3]\n",
    "        return new_position, reward\n",
    "\n",
    "    if action == 0:  # North\n",
    "        move = [-1, 0]\n",
    "    elif action == 1:  # East\n",
    "        move = [0, 1]\n",
    "    elif action == 2:  # West\n",
    "        move = [0, -1]\n",
    "    elif action == 3:  # South\n",
    "        move = [1, 0]\n",
    "\n",
    "    new_position = new_position + move\n",
    "    if np.any(new_position < 0) or np.any(new_position > 4):\n",
    "        reward = -1\n",
    "        new_position[new_position < 0] = 0\n",
    "        new_position[new_position > 4] = 4\n",
    "    return new_position, reward\n",
    "\n",
    "\n",
    "class GridWorld(luchador.env.BaseEnvironment):\n",
    "    \"\"\"GridWorld Example from Sutton, Chapter3.\"\"\"\n",
    "    def __init__(self, seed=None):\n",
    "        self.position = None\n",
    "        self.rng = np.random.RandomState(seed=seed)\n",
    "\n",
    "    @property\n",
    "    def n_actions(self):\n",
    "        return 4\n",
    "\n",
    "    def reset(self):\n",
    "        \"\"\"Reset position randomly\"\"\"\n",
    "        self.position = self.rng.randint(5, size=2)\n",
    "        return luchador.env.Outcome(\n",
    "            reward=0, observation=self.position, terminal=False, state={})\n",
    "\n",
    "    def step(self, action):\n",
    "        \"\"\"Move position based on action and transit rule\"\"\"\n",
    "        self.position, reward = _transit(self.position, action)\n",
    "        return luchador.env.Outcome(\n",
    "            reward=reward, observation=self.position, terminal=False, state={})"
   ]
  },
  {
   "cell_type": "markdown",
   "metadata": {},
   "source": [
    "Then we create agent which\n",
    "- has equiprobable random policy\n",
    "- estimates of action-value function via Monte-Calro approach"
   ]
  },
  {
   "cell_type": "code",
   "execution_count": 3,
   "metadata": {
    "collapsed": false
   },
   "outputs": [],
   "source": [
    "class GridWorldAgent(luchador.agent.BaseAgent):\n",
    "    \"\"\"Agent walk on GridWorld with equiprobable random policy while\n",
    "    estimating the action values\n",
    "\n",
    "    Parameters\n",
    "    ----------\n",
    "    step_size : float\n",
    "        StepSize parameter for estimating action value function\n",
    "    discount : float\n",
    "        Discount rate for computing state-value function\n",
    "    initial_q : float\n",
    "        Initial action value estimation\n",
    "    \"\"\"\n",
    "    def __init__(self, step_size=0.9, discount=0.9, initial_q=10):\n",
    "        self.step_size = step_size\n",
    "        self.discount = discount\n",
    "\n",
    "        self.position = None  # Pre-action position\n",
    "        self.action_values = initial_q * np.ones((5, 5, 4))\n",
    "\n",
    "    @property\n",
    "    def state_values(self):\n",
    "        \"\"\"Current estimated state value mapping\"\"\"\n",
    "        return np.mean(self.action_values, axis=2)\n",
    "\n",
    "    def init(self, _):\n",
    "        pass\n",
    "\n",
    "    def reset(self, observation):\n",
    "        self.position = observation\n",
    "\n",
    "    def observe(self, action, outcome):\n",
    "        pos0, pos1 = self.position, outcome.observation\n",
    "\n",
    "        post_state_value = self.state_values[pos1[0], pos1[1]]\n",
    "        target = outcome.reward + self.discount * post_state_value\n",
    "\n",
    "        self.action_values[pos0[0], pos0[1], action] += self.step_size * (\n",
    "            target - self.action_values[pos0[0], pos0[1], action])\n",
    "        self.position = pos1\n",
    "\n",
    "    def act(self):\n",
    "        return np.random.choice(4)"
   ]
  },
  {
   "cell_type": "markdown",
   "metadata": {},
   "source": [
    "We run the agent in the environment for setps long enough for action value\n",
    "estimation to get close enough to theoritical value as given in the book,\n",
    "Fig.3.5."
   ]
  },
  {
   "cell_type": "code",
   "execution_count": 4,
   "metadata": {
    "collapsed": false
   },
   "outputs": [
    {
     "name": "stdout",
     "output_type": "stream",
     "text": [
      "State Value:\n",
      " [[ 3.30967334  8.78996384  4.42847076  5.32341602  1.49351647]\n",
      " [ 1.52230436  2.9931482   2.2510107   1.90857554  0.54846154]\n",
      " [ 0.05159643  0.73894369  0.6738938   0.35908764 -0.40224067]\n",
      " [-0.97293989 -0.43483119 -0.35409912 -0.58475632 -1.18223195]\n",
      " [-1.8570356  -1.34456779 -1.22844634 -1.42197591 -1.97428826]]\n",
      "Action Value: north\n",
      "[[ 1.97874029  8.78999857  2.98570892  5.32374653  0.34443688]\n",
      " [ 2.97871735  7.91104469  3.9858463   4.79118912  1.34437122]\n",
      " [ 1.37017006  2.69398926  2.025935    1.71773175  0.49365051]\n",
      " [ 0.04648489  0.66505173  0.60655654  0.32320462 -0.36199383]\n",
      " [-0.87559034 -0.39133176 -0.3186462  -0.52616579 -1.06396538]]\n",
      "Action Value: east\n",
      "[[ 7.91104314  8.79003639  4.79125101  5.32345466  0.3443786 ]\n",
      " [ 2.69385539  2.02616511  1.71773653  0.49370507 -0.50629823]\n",
      " [ 0.66528139  0.60655902  0.32322214 -0.36198697 -1.36199142]\n",
      " [-0.39129612 -0.31864091 -0.52618199 -1.06395648 -2.06394835]\n",
      " [-1.21003207 -1.10559598 -1.27959812 -1.77647742 -2.776729  ]]\n",
      "Action Value: west\n",
      "[[ 1.97871633  8.7899077   7.91098068  5.32320793  4.79127427]\n",
      " [ 0.37018636  1.37015021  2.69393324  2.02596035  1.71777264]\n",
      " [-0.95350294  0.04652565  0.66505756  0.60672352  0.32320574]\n",
      " [-1.87563884 -0.87564326 -0.39131472 -0.31851233 -0.52627406]\n",
      " [-2.67131338 -1.6713141  -1.21003217 -1.10556544 -1.27975073]]\n",
      "Action Value: south\n",
      "[[ 1.37019358  8.7899127   2.02594242  5.32325495  0.49397613]\n",
      " [ 0.04645836  0.66523277  0.60652675  0.32344759 -0.36199949]\n",
      " [-0.8755628  -0.39129918 -0.3186395  -0.52611776 -1.06382752]\n",
      " [-1.67130947 -1.2100923  -1.10545631 -1.27976107 -1.77671154]\n",
      " [-2.67120661 -2.21002932 -2.1055089  -2.27969498 -2.77670794]]\n"
     ]
    },
    {
     "data": {
      "image/png": "[encoded data removed]",
      "text/plain": [
       "<matplotlib.figure.Figure at 0x116ab7b10>"
      ]
     },
     "metadata": {},
     "output_type": "display_data"
    }
   ],
   "source": [
    "def run_agent(env, agent, episodes=1000, steps=4):\n",
    "    \"\"\"Run agent for the given steps and plot the resulting state value\"\"\"\n",
    "    runner = EpisodeRunner(env, agent, max_steps=steps)\n",
    "\n",
    "    for _ in range(episodes):\n",
    "        runner.run_episode()\n",
    "\n",
    "    print('State Value:\\n', agent.state_values)\n",
    "    for i, action in enumerate(['north', 'east', 'west', 'south']):\n",
    "        print('Action Value:', action)\n",
    "        print(agent.action_values[:, :, i])\n",
    "\n",
    "    fig = plt.figure()\n",
    "    ax = fig.add_subplot(1, 1, 1)\n",
    "    img = ax.imshow(agent.state_values, interpolation='nearest', origin='upper')\n",
    "    fig.colorbar(img)\n",
    "    plt.show(block=False)\n",
    "\n",
    "\n",
    "run_agent(\n",
    "    env=GridWorld(seed=0),\n",
    "    agent=GridWorldAgent(step_size=0.9, discount=0.9),\n",
    "    steps=5, episodes=2000,\n",
    ")"
   ]
  },
  {
   "cell_type": "markdown",
   "metadata": {},
   "source": [
    "Let's compute the state values for optimal policy. $\\pi^{*}$\n",
    "Computing optimal policy using Monte Carlo (sampling) approach is not\n",
    "straight forward, as agent has to explore the transitions which are not\n",
    "optimal.\n",
    "To overcome this, we take advantage of\n",
    "- random initialization: All states are visited eventually\n",
    "- Optimal initial value: All actions are tried eventually"
   ]
  },
  {
   "cell_type": "code",
   "execution_count": 5,
   "metadata": {
    "collapsed": false
   },
   "outputs": [
    {
     "name": "stdout",
     "output_type": "stream",
     "text": [
      "State Value:\n",
      " [[ 21.97748529  24.4194281   21.97748529  19.42059442  17.4793048 ]\n",
      " [ 19.78031106  21.97748529  19.77973676  17.80176308  16.02182022]\n",
      " [ 17.80833068  19.77973676  17.80176308  16.02158677  14.44404944]\n",
      " [ 16.07905129  17.80176308  16.02159475  14.42207286  13.32172802]\n",
      " [ 15.80785433  16.02158677  14.44216184  13.24213528  12.98410773]]\n",
      "Action Value: north\n",
      "[[ 20.14284     24.4194281   20.14284     19.41960225  17.4299844 ]\n",
      " [ 19.78031106  21.97748529  19.77973676  17.71821741  15.79872796]\n",
      " [ 17.80833068  19.77973676  17.80176308  16.02158677  14.44404944]\n",
      " [ 16.07905129  17.80176308  16.02159475  14.42207286  13.15695668]\n",
      " [ 15.80785433  16.02158677  14.42540686  13.16183947  12.42438455]]\n",
      "Action Value: east\n",
      "[[ 21.97748529  24.4194281   21.44322536  19.42059442  17.4299844 ]\n",
      " [ 19.77991772  21.77889777  16.66548619  17.69478021  14.9612858 ]\n",
      " [ 17.80286043  18.40741142  14.80358256  15.14358728  12.71477008]\n",
      " [ 16.03692167  16.79880164  14.66865412  13.05200127  12.71477008]\n",
      " [ 14.66055144  15.75572071  13.84575497  12.32755613  12.71477008]]\n",
      "Action Value: west\n",
      "[[ 20.14284     24.4194281   21.97748529  19.41995545  17.4793048 ]\n",
      " [ 17.4299844   21.76244144  19.77973676  17.80176308  16.02182022]\n",
      " [ 17.4299844   18.31505786  17.80176308  16.02158677  14.43531315]\n",
      " [ 14.9612858   17.51287617  16.02159239  14.42126545  13.32172802]\n",
      " [ 14.9612858   15.73652773  14.44216184  13.24213528  12.98410773]]\n",
      "Action Value: south\n",
      "[[ 20.73263835  24.4194281   20.65552923  19.41984906  16.54475425]\n",
      " [ 17.65787035  20.82728261  18.19685427  15.47122023  16.00178804]\n",
      " [ 17.30161399  18.53328179  15.48170043  15.67997292  13.16404707]\n",
      " [ 15.49835147  15.95833794  15.20985172  14.40274082  12.39156774]\n",
      " [ 14.9612858   14.9612858   12.71477008  12.71477008  12.71477008]]\n"
     ]
    },
    {
     "data": {
      "image/png": "[encoded data removed]",
      "text/plain": [
       "<matplotlib.figure.Figure at 0x1190a3050>"
      ]
     },
     "metadata": {},
     "output_type": "display_data"
    }
   ],
   "source": [
    "class GreedyGridWorldAgent(GridWorldAgent):\n",
    "    \"\"\"Agent act on greedy policy\"\"\"\n",
    "    def __init__(self, step_size=0.9, discount=0.9, initial_q=30):\n",
    "        super(GreedyGridWorldAgent, self).__init__(\n",
    "            step_size=step_size, discount=discount, initial_q=initial_q)\n",
    "\n",
    "    @property\n",
    "    def state_values(self):\n",
    "        return np.max(self.action_values, axis=2)\n",
    "\n",
    "    def act(self):\n",
    "        return np.argmax(\n",
    "            self.action_values[self.position[0], self.position[1]])\n",
    "\n",
    "\n",
    "run_agent(\n",
    "    env=GridWorld(seed=0),\n",
    "    agent=GreedyGridWorldAgent(step_size=0.9, discount=0.9, initial_q=30),\n",
    "    steps=100, episodes=100,\n",
    ")"
   ]
  }
 ],
 "metadata": {
  "anaconda-cloud": {},
  "kernelspec": {
   "display_name": "Python [default]",
   "language": "python",
   "name": "python2"
  },
  "language_info": {
   "codemirror_mode": {
    "name": "ipython",
    "version": 2
   },
   "file_extension": ".py",
   "mimetype": "text/x-python",
   "name": "python",
   "nbconvert_exporter": "python",
   "pygments_lexer": "ipython2",
   "version": "2.7.13"
  }
 },
 "nbformat": 4,
 "nbformat_minor": 2
}
